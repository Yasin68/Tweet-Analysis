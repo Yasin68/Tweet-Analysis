{
 "cells": [
  {
   "cell_type": "markdown",
   "metadata": {},
   "source": [
    "#### NLP \n",
    "* Natural Language Processing or NLP is an automated way to understand or analyze the natural languages and extract required information from such data by applying machine learning Algorithms.\n",
    "* Some real-life example of NLP is IOS Siri, the Google assistant, Amazon echo."
   ]
  },
  {
   "cell_type": "markdown",
   "metadata": {},
   "source": [
    "#### A NLP pipeline consist of\n",
    "\n",
    " Any typical NLP problem can be proceeded as follows:\n",
    "\n",
    "1. Text gathering(web scraping or available datasets)\n",
    "2. Text cleaning(stemming, lemmatization, Removing accented characters)\n",
    "3. Feature generation(Bag of words)\n",
    "4. Embedding and sentence representation(word2vec)\n",
    "5. Training the model by leveraging neural nets or regression techniques\n",
    "6. Model evaluation\n",
    "7. Making adjustments to the model\n",
    "8. Deployment of the model."
   ]
  },
  {
   "cell_type": "markdown",
   "metadata": {},
   "source": [
    "#### Problem Description\n",
    "\n",
    "* Customer support in channels like Twitter and Facebook has became a challenge because having a negative reviews or comments can largely impact the sales, profitability and customer experience.\n",
    "* The main challenge in this line of research is collecting quality data."
   ]
  },
  {
   "cell_type": "markdown",
   "metadata": {},
   "source": [
    "#### Analytics Objective\n",
    "\n",
    "*  To come up with a solution that can be utilized by users to correctly categorize tweets and counter them for better customer experience.\n",
    "* Sentiment analysis of the each tweet.\n",
    "* To identify the top customer support companies."
   ]
  },
  {
   "cell_type": "markdown",
   "metadata": {},
   "source": [
    "#### Dataset Description\n",
    "\n",
    "The dataset is a csv, where each row is a tweet. Each conversation includes at least one customer request and one company reply.\n",
    "\n",
    "* tweet_id:\tA unique, anonymized ID for the Tweet. Referenced by response_tweet_id and in_response_to_tweet_id.\n",
    "* author_id: A unique, anonymized user ID. In the dataset have been replaced with their associated anonymized user ID.\n",
    "* inbound: Whether the tweet is \"inbound\" to a company doing customer support on Twitter. This feature is useful when re-organizing data for training conversational models.\n",
    "* created_at: Date and time when the tweet was sent.\n",
    "* text: Tweet content.\n",
    "* response_tweet_id: IDs of tweets that are responses to this tweet.\n",
    "* in_response_to_tweet_id: IDs of the tweet is in response to, if any."
   ]
  },
  {
   "cell_type": "markdown",
   "metadata": {},
   "source": [
    "#### Experiment\n",
    "\n",
    "* To build a unsupervised machine learning model to correctly cluster the user tweets."
   ]
  },
  {
   "cell_type": "markdown",
   "metadata": {},
   "source": [
    "### 1.Data handling"
   ]
  },
  {
   "cell_type": "markdown",
   "metadata": {},
   "source": [
    "#### Import requried libraries"
   ]
  },
  {
   "cell_type": "code",
   "execution_count": 1,
   "metadata": {},
   "outputs": [],
   "source": [
    "import os\n",
    "path = os.getcwd()"
   ]
  },
  {
   "cell_type": "code",
   "execution_count": 2,
   "metadata": {},
   "outputs": [],
   "source": [
    "import pandas as pd\n",
    "import numpy as np"
   ]
  },
  {
   "cell_type": "markdown",
   "metadata": {},
   "source": [
    "#### Read the dataset"
   ]
  },
  {
   "cell_type": "code",
   "execution_count": 3,
   "metadata": {},
   "outputs": [],
   "source": [
    "data = pd.read_csv('twcs.csv')"
   ]
  },
  {
   "cell_type": "code",
   "execution_count": 4,
   "metadata": {},
   "outputs": [
    {
     "data": {
      "text/html": [
       "<div>\n",
       "<style scoped>\n",
       "    .dataframe tbody tr th:only-of-type {\n",
       "        vertical-align: middle;\n",
       "    }\n",
       "\n",
       "    .dataframe tbody tr th {\n",
       "        vertical-align: top;\n",
       "    }\n",
       "\n",
       "    .dataframe thead th {\n",
       "        text-align: right;\n",
       "    }\n",
       "</style>\n",
       "<table border=\"1\" class=\"dataframe\">\n",
       "  <thead>\n",
       "    <tr style=\"text-align: right;\">\n",
       "      <th></th>\n",
       "      <th>tweet_id</th>\n",
       "      <th>author_id</th>\n",
       "      <th>inbound</th>\n",
       "      <th>created_at</th>\n",
       "      <th>text</th>\n",
       "      <th>response_tweet_id</th>\n",
       "      <th>in_response_to_tweet_id</th>\n",
       "    </tr>\n",
       "  </thead>\n",
       "  <tbody>\n",
       "    <tr>\n",
       "      <th>0</th>\n",
       "      <td>1</td>\n",
       "      <td>sprintcare</td>\n",
       "      <td>False</td>\n",
       "      <td>Tue Oct 31 22:10:47 +0000 2017</td>\n",
       "      <td>@115712 I understand. I would like to assist y...</td>\n",
       "      <td>2</td>\n",
       "      <td>3.0</td>\n",
       "    </tr>\n",
       "    <tr>\n",
       "      <th>1</th>\n",
       "      <td>2</td>\n",
       "      <td>115712</td>\n",
       "      <td>True</td>\n",
       "      <td>Tue Oct 31 22:11:45 +0000 2017</td>\n",
       "      <td>@sprintcare and how do you propose we do that</td>\n",
       "      <td>NaN</td>\n",
       "      <td>1.0</td>\n",
       "    </tr>\n",
       "  </tbody>\n",
       "</table>\n",
       "</div>"
      ],
      "text/plain": [
       "   tweet_id   author_id  inbound                      created_at  \\\n",
       "0         1  sprintcare    False  Tue Oct 31 22:10:47 +0000 2017   \n",
       "1         2      115712     True  Tue Oct 31 22:11:45 +0000 2017   \n",
       "\n",
       "                                                text response_tweet_id  \\\n",
       "0  @115712 I understand. I would like to assist y...                 2   \n",
       "1      @sprintcare and how do you propose we do that               NaN   \n",
       "\n",
       "   in_response_to_tweet_id  \n",
       "0                      3.0  \n",
       "1                      1.0  "
      ]
     },
     "execution_count": 4,
     "metadata": {},
     "output_type": "execute_result"
    }
   ],
   "source": [
    "data.head(2)"
   ]
  },
  {
   "cell_type": "markdown",
   "metadata": {},
   "source": [
    "#### Check the shape"
   ]
  },
  {
   "cell_type": "code",
   "execution_count": 5,
   "metadata": {},
   "outputs": [
    {
     "data": {
      "text/plain": [
       "(2811774, 7)"
      ]
     },
     "execution_count": 5,
     "metadata": {},
     "output_type": "execute_result"
    }
   ],
   "source": [
    "data.shape"
   ]
  },
  {
   "cell_type": "code",
   "execution_count": 6,
   "metadata": {},
   "outputs": [
    {
     "data": {
      "text/plain": [
       "\"@115714 whenever I contact customer support, they tell me I have shortcode enabled on my account, but I have never in the 4 years I've tried https://t.co/0G98RtNxPK\""
      ]
     },
     "execution_count": 6,
     "metadata": {},
     "output_type": "execute_result"
    }
   ],
   "source": [
    "data['text'][14]"
   ]
  },
  {
   "cell_type": "markdown",
   "metadata": {},
   "source": [
    "#### Checking Missing values"
   ]
  },
  {
   "cell_type": "code",
   "execution_count": 7,
   "metadata": {},
   "outputs": [
    {
     "data": {
      "text/plain": [
       "tweet_id                   0.000000\n",
       "author_id                  0.000000\n",
       "inbound                    0.000000\n",
       "created_at                 0.000000\n",
       "text                       0.000000\n",
       "response_tweet_id          0.370097\n",
       "in_response_to_tweet_id    0.282503\n",
       "dtype: float64"
      ]
     },
     "execution_count": 7,
     "metadata": {},
     "output_type": "execute_result"
    }
   ],
   "source": [
    "data.isnull().mean()"
   ]
  },
  {
   "cell_type": "markdown",
   "metadata": {},
   "source": [
    "#### Check the data type"
   ]
  },
  {
   "cell_type": "code",
   "execution_count": 8,
   "metadata": {},
   "outputs": [
    {
     "data": {
      "text/plain": [
       "tweet_id                     int64\n",
       "author_id                   object\n",
       "inbound                       bool\n",
       "created_at                  object\n",
       "text                        object\n",
       "response_tweet_id           object\n",
       "in_response_to_tweet_id    float64\n",
       "dtype: object"
      ]
     },
     "execution_count": 8,
     "metadata": {},
     "output_type": "execute_result"
    }
   ],
   "source": [
    "data.dtypes"
   ]
  },
  {
   "cell_type": "markdown",
   "metadata": {},
   "source": [
    "#### Feature Extraction\n",
    "\n",
    "* we have information on the author of the tweets and whether the tweet was a query or a response (the \"inbound\" column). If the tweet was a query, the response_tweet_id gives the response made by the support team."
   ]
  },
  {
   "cell_type": "markdown",
   "metadata": {},
   "source": [
    "#### Some considerations:\n",
    "* The inbound feature is important because it allows you to distinguish between company and customer.\n",
    "* Obviously the 'text' function is the main source of information.\n",
    "\n",
    " I will apply natural language processing techniques. In my opinion, it is possible to address the problem in two ways:\n",
    " \n",
    "1.Catalog customer tweets and identify the most discussed topics.\n",
    "\n",
    "2.Create a model that adapts to the tweets of the companies and try to answer a specific topic of a customer (to do)"
   ]
  },
  {
   "cell_type": "code",
   "execution_count": 9,
   "metadata": {},
   "outputs": [
    {
     "data": {
      "text/html": [
       "<div>\n",
       "<style scoped>\n",
       "    .dataframe tbody tr th:only-of-type {\n",
       "        vertical-align: middle;\n",
       "    }\n",
       "\n",
       "    .dataframe tbody tr th {\n",
       "        vertical-align: top;\n",
       "    }\n",
       "\n",
       "    .dataframe thead th {\n",
       "        text-align: right;\n",
       "    }\n",
       "</style>\n",
       "<table border=\"1\" class=\"dataframe\">\n",
       "  <thead>\n",
       "    <tr style=\"text-align: right;\">\n",
       "      <th></th>\n",
       "      <th>tweet_id</th>\n",
       "      <th>author_id</th>\n",
       "      <th>inbound</th>\n",
       "      <th>created_at</th>\n",
       "      <th>text</th>\n",
       "      <th>response_tweet_id</th>\n",
       "      <th>in_response_to_tweet_id</th>\n",
       "    </tr>\n",
       "  </thead>\n",
       "  <tbody>\n",
       "    <tr>\n",
       "      <th>0</th>\n",
       "      <td>1</td>\n",
       "      <td>sprintcare</td>\n",
       "      <td>False</td>\n",
       "      <td>Tue Oct 31 22:10:47 +0000 2017</td>\n",
       "      <td>@115712 I understand. I would like to assist y...</td>\n",
       "      <td>2</td>\n",
       "      <td>3.0</td>\n",
       "    </tr>\n",
       "    <tr>\n",
       "      <th>1</th>\n",
       "      <td>2</td>\n",
       "      <td>115712</td>\n",
       "      <td>True</td>\n",
       "      <td>Tue Oct 31 22:11:45 +0000 2017</td>\n",
       "      <td>@sprintcare and how do you propose we do that</td>\n",
       "      <td>NaN</td>\n",
       "      <td>1.0</td>\n",
       "    </tr>\n",
       "  </tbody>\n",
       "</table>\n",
       "</div>"
      ],
      "text/plain": [
       "   tweet_id   author_id  inbound                      created_at  \\\n",
       "0         1  sprintcare    False  Tue Oct 31 22:10:47 +0000 2017   \n",
       "1         2      115712     True  Tue Oct 31 22:11:45 +0000 2017   \n",
       "\n",
       "                                                text response_tweet_id  \\\n",
       "0  @115712 I understand. I would like to assist y...                 2   \n",
       "1      @sprintcare and how do you propose we do that               NaN   \n",
       "\n",
       "   in_response_to_tweet_id  \n",
       "0                      3.0  \n",
       "1                      1.0  "
      ]
     },
     "execution_count": 9,
     "metadata": {},
     "output_type": "execute_result"
    }
   ],
   "source": [
    "data.head(2)"
   ]
  },
  {
   "cell_type": "markdown",
   "metadata": {},
   "source": [
    "* Here I create another dataset containing a client's initial request and the company's response."
   ]
  },
  {
   "cell_type": "code",
   "execution_count": 10,
   "metadata": {},
   "outputs": [],
   "source": [
    "\n",
    "first_inbound = data[pd.isnull(data.in_response_to_tweet_id) & data.inbound]\n",
    "\n",
    "inbOutb = pd.merge(first_inbound, data, left_on='tweet_id', \n",
    "                                  right_on='in_response_to_tweet_id').sample(frac=1)\n",
    "\n",
    "# Filter to only outbound replies (from companies)\n",
    "inbOutb = inbOutb[inbOutb.inbound_y ^ True]"
   ]
  },
  {
   "cell_type": "code",
   "execution_count": 11,
   "metadata": {},
   "outputs": [
    {
     "data": {
      "text/plain": [
       "(794299, 14)"
      ]
     },
     "execution_count": 11,
     "metadata": {},
     "output_type": "execute_result"
    }
   ],
   "source": [
    "inbOutb.shape"
   ]
  },
  {
   "cell_type": "code",
   "execution_count": 12,
   "metadata": {},
   "outputs": [
    {
     "data": {
      "text/html": [
       "<div>\n",
       "<style scoped>\n",
       "    .dataframe tbody tr th:only-of-type {\n",
       "        vertical-align: middle;\n",
       "    }\n",
       "\n",
       "    .dataframe tbody tr th {\n",
       "        vertical-align: top;\n",
       "    }\n",
       "\n",
       "    .dataframe thead th {\n",
       "        text-align: right;\n",
       "    }\n",
       "</style>\n",
       "<table border=\"1\" class=\"dataframe\">\n",
       "  <thead>\n",
       "    <tr style=\"text-align: right;\">\n",
       "      <th></th>\n",
       "      <th>tweet_id_x</th>\n",
       "      <th>author_id_x</th>\n",
       "      <th>inbound_x</th>\n",
       "      <th>created_at_x</th>\n",
       "      <th>text_x</th>\n",
       "      <th>response_tweet_id_x</th>\n",
       "      <th>in_response_to_tweet_id_x</th>\n",
       "      <th>tweet_id_y</th>\n",
       "      <th>author_id_y</th>\n",
       "      <th>inbound_y</th>\n",
       "      <th>created_at_y</th>\n",
       "      <th>text_y</th>\n",
       "      <th>response_tweet_id_y</th>\n",
       "      <th>in_response_to_tweet_id_y</th>\n",
       "    </tr>\n",
       "  </thead>\n",
       "  <tbody>\n",
       "    <tr>\n",
       "      <th>299536</th>\n",
       "      <td>1096114</td>\n",
       "      <td>378651</td>\n",
       "      <td>True</td>\n",
       "      <td>Fri Oct 13 20:18:30 +0000 2017</td>\n",
       "      <td>@117249 @tesco do either of you sell sake? I'm...</td>\n",
       "      <td>1096112</td>\n",
       "      <td>NaN</td>\n",
       "      <td>1096112</td>\n",
       "      <td>Tesco</td>\n",
       "      <td>False</td>\n",
       "      <td>Fri Oct 13 21:26:20 +0000 2017</td>\n",
       "      <td>@378651 Hi Skye, if you's like to DM me your p...</td>\n",
       "      <td>1096113</td>\n",
       "      <td>1096114.0</td>\n",
       "    </tr>\n",
       "    <tr>\n",
       "      <th>402609</th>\n",
       "      <td>1461905</td>\n",
       "      <td>459294</td>\n",
       "      <td>True</td>\n",
       "      <td>Thu Nov 02 17:31:45 +0000 2017</td>\n",
       "      <td>@O2 really disappointed with lack of support. ...</td>\n",
       "      <td>1461904</td>\n",
       "      <td>NaN</td>\n",
       "      <td>1461904</td>\n",
       "      <td>O2</td>\n",
       "      <td>False</td>\n",
       "      <td>Thu Nov 02 18:26:10 +0000 2017</td>\n",
       "      <td>@459294 Hi Daniel, 😞 Please can you DM us some...</td>\n",
       "      <td>NaN</td>\n",
       "      <td>1461905.0</td>\n",
       "    </tr>\n",
       "  </tbody>\n",
       "</table>\n",
       "</div>"
      ],
      "text/plain": [
       "        tweet_id_x author_id_x  inbound_x                    created_at_x  \\\n",
       "299536     1096114      378651       True  Fri Oct 13 20:18:30 +0000 2017   \n",
       "402609     1461905      459294       True  Thu Nov 02 17:31:45 +0000 2017   \n",
       "\n",
       "                                                   text_x response_tweet_id_x  \\\n",
       "299536  @117249 @tesco do either of you sell sake? I'm...             1096112   \n",
       "402609  @O2 really disappointed with lack of support. ...             1461904   \n",
       "\n",
       "        in_response_to_tweet_id_x  tweet_id_y author_id_y  inbound_y  \\\n",
       "299536                        NaN     1096112       Tesco      False   \n",
       "402609                        NaN     1461904          O2      False   \n",
       "\n",
       "                          created_at_y  \\\n",
       "299536  Fri Oct 13 21:26:20 +0000 2017   \n",
       "402609  Thu Nov 02 18:26:10 +0000 2017   \n",
       "\n",
       "                                                   text_y response_tweet_id_y  \\\n",
       "299536  @378651 Hi Skye, if you's like to DM me your p...             1096113   \n",
       "402609  @459294 Hi Daniel, 😞 Please can you DM us some...                 NaN   \n",
       "\n",
       "        in_response_to_tweet_id_y  \n",
       "299536                  1096114.0  \n",
       "402609                  1461905.0  "
      ]
     },
     "execution_count": 12,
     "metadata": {},
     "output_type": "execute_result"
    }
   ],
   "source": [
    "inbOutb.head(2)"
   ]
  },
  {
   "cell_type": "markdown",
   "metadata": {},
   "source": [
    "Now the dataset is doubled in size (features), as each line contains:\n",
    "\n",
    "* a customer request (text_x)\n",
    "* a reply from the company (text_y)\n",
    "\n",
    "From which we can easily verify that:\n",
    "\n",
    "* the 'inbound_x' feature is always True;\n",
    "* the 'inbound_y' feature is always False;"
   ]
  },
  {
   "cell_type": "markdown",
   "metadata": {},
   "source": [
    "#### Checking Missing values"
   ]
  },
  {
   "cell_type": "code",
   "execution_count": 13,
   "metadata": {},
   "outputs": [
    {
     "data": {
      "text/plain": [
       "tweet_id_x                   0.00000\n",
       "author_id_x                  0.00000\n",
       "inbound_x                    0.00000\n",
       "created_at_x                 0.00000\n",
       "text_x                       0.00000\n",
       "response_tweet_id_x          0.00000\n",
       "in_response_to_tweet_id_x    1.00000\n",
       "tweet_id_y                   0.00000\n",
       "author_id_y                  0.00000\n",
       "inbound_y                    0.00000\n",
       "created_at_y                 0.00000\n",
       "text_y                       0.00000\n",
       "response_tweet_id_y          0.66792\n",
       "in_response_to_tweet_id_y    0.00000\n",
       "dtype: float64"
      ]
     },
     "execution_count": 13,
     "metadata": {},
     "output_type": "execute_result"
    }
   ],
   "source": [
    "inbOutb.isnull().mean()"
   ]
  },
  {
   "cell_type": "markdown",
   "metadata": {},
   "source": [
    "* The 'in_response_to_tweet_id_x' feature is totally composed of NaN, as the client's message is not a response to any tweets, because it is the beginning of the conversation. So this feature will be dropped."
   ]
  },
  {
   "cell_type": "markdown",
   "metadata": {},
   "source": [
    "#### Drop useless features"
   ]
  },
  {
   "cell_type": "code",
   "execution_count": 14,
   "metadata": {},
   "outputs": [
    {
     "data": {
      "text/plain": [
       "Index(['tweet_id_x', 'author_id_x', 'inbound_x', 'created_at_x', 'text_x',\n",
       "       'response_tweet_id_x', 'in_response_to_tweet_id_x', 'tweet_id_y',\n",
       "       'author_id_y', 'inbound_y', 'created_at_y', 'text_y',\n",
       "       'response_tweet_id_y', 'in_response_to_tweet_id_y'],\n",
       "      dtype='object')"
      ]
     },
     "execution_count": 14,
     "metadata": {},
     "output_type": "execute_result"
    }
   ],
   "source": [
    "inbOutb.columns"
   ]
  },
  {
   "cell_type": "code",
   "execution_count": 15,
   "metadata": {},
   "outputs": [],
   "source": [
    "toDrop = ['tweet_id_x', 'inbound_x','response_tweet_id_x', 'in_response_to_tweet_id_x', \n",
    "          'tweet_id_y', 'inbound_y','response_tweet_id_y', 'in_response_to_tweet_id_y']"
   ]
  },
  {
   "cell_type": "code",
   "execution_count": 16,
   "metadata": {},
   "outputs": [
    {
     "name": "stdout",
     "output_type": "stream",
     "text": [
      "inbOutb shape:  (794299, 6)\n"
     ]
    }
   ],
   "source": [
    "inbOutb.drop(toDrop, axis=1, inplace=True)\n",
    "print('inbOutb shape: ', inbOutb.shape)"
   ]
  },
  {
   "cell_type": "code",
   "execution_count": 17,
   "metadata": {},
   "outputs": [
    {
     "data": {
      "text/html": [
       "<div>\n",
       "<style scoped>\n",
       "    .dataframe tbody tr th:only-of-type {\n",
       "        vertical-align: middle;\n",
       "    }\n",
       "\n",
       "    .dataframe tbody tr th {\n",
       "        vertical-align: top;\n",
       "    }\n",
       "\n",
       "    .dataframe thead th {\n",
       "        text-align: right;\n",
       "    }\n",
       "</style>\n",
       "<table border=\"1\" class=\"dataframe\">\n",
       "  <thead>\n",
       "    <tr style=\"text-align: right;\">\n",
       "      <th></th>\n",
       "      <th>author_id_x</th>\n",
       "      <th>created_at_x</th>\n",
       "      <th>text_x</th>\n",
       "      <th>author_id_y</th>\n",
       "      <th>created_at_y</th>\n",
       "      <th>text_y</th>\n",
       "    </tr>\n",
       "  </thead>\n",
       "  <tbody>\n",
       "    <tr>\n",
       "      <th>299536</th>\n",
       "      <td>378651</td>\n",
       "      <td>Fri Oct 13 20:18:30 +0000 2017</td>\n",
       "      <td>@117249 @tesco do either of you sell sake? I'm...</td>\n",
       "      <td>Tesco</td>\n",
       "      <td>Fri Oct 13 21:26:20 +0000 2017</td>\n",
       "      <td>@378651 Hi Skye, if you's like to DM me your p...</td>\n",
       "    </tr>\n",
       "    <tr>\n",
       "      <th>402609</th>\n",
       "      <td>459294</td>\n",
       "      <td>Thu Nov 02 17:31:45 +0000 2017</td>\n",
       "      <td>@O2 really disappointed with lack of support. ...</td>\n",
       "      <td>O2</td>\n",
       "      <td>Thu Nov 02 18:26:10 +0000 2017</td>\n",
       "      <td>@459294 Hi Daniel, 😞 Please can you DM us some...</td>\n",
       "    </tr>\n",
       "  </tbody>\n",
       "</table>\n",
       "</div>"
      ],
      "text/plain": [
       "       author_id_x                    created_at_x  \\\n",
       "299536      378651  Fri Oct 13 20:18:30 +0000 2017   \n",
       "402609      459294  Thu Nov 02 17:31:45 +0000 2017   \n",
       "\n",
       "                                                   text_x author_id_y  \\\n",
       "299536  @117249 @tesco do either of you sell sake? I'm...       Tesco   \n",
       "402609  @O2 really disappointed with lack of support. ...          O2   \n",
       "\n",
       "                          created_at_y  \\\n",
       "299536  Fri Oct 13 21:26:20 +0000 2017   \n",
       "402609  Thu Nov 02 18:26:10 +0000 2017   \n",
       "\n",
       "                                                   text_y  \n",
       "299536  @378651 Hi Skye, if you's like to DM me your p...  \n",
       "402609  @459294 Hi Daniel, 😞 Please can you DM us some...  "
      ]
     },
     "execution_count": 17,
     "metadata": {},
     "output_type": "execute_result"
    }
   ],
   "source": [
    "inbOutb.head(2)"
   ]
  },
  {
   "cell_type": "markdown",
   "metadata": {},
   "source": [
    "### 2.Data Visualization"
   ]
  },
  {
   "cell_type": "code",
   "execution_count": 18,
   "metadata": {},
   "outputs": [],
   "source": [
    "import matplotlib as mpl\n",
    "import matplotlib.pyplot as plt\n",
    "import seaborn as sns\n",
    "%matplotlib inline"
   ]
  },
  {
   "cell_type": "code",
   "execution_count": 19,
   "metadata": {},
   "outputs": [
    {
     "data": {
      "image/png": "[encoded data removed]",
      "text/plain": [
       "<Figure size 1440x1080 with 1 Axes>"
      ]
     },
     "metadata": {},
     "output_type": "display_data"
    }
   ],
   "source": [
    "plt.figure(figsize=(20, 15))\n",
    "sns.set_style('white')\n",
    "sns.countplot(x='author_id_y', data=inbOutb )\n",
    "plt.xticks(rotation = 90)\n",
    "plt.title(\"Distribution of Companies' Replies \", fontsize = 20)\n",
    "plt.show()"
   ]
  },
  {
   "cell_type": "markdown",
   "metadata": {},
   "source": [
    "* The tweets refer to 108 different companies.\n",
    "* The dataset has highest tweets for AmazonHelp followed by AppleSupport and Uber_support. \n",
    "* For a better analysis it is necessary to categorize the companies to select more specific tweets to the relative services."
   ]
  },
  {
   "cell_type": "code",
   "execution_count": 20,
   "metadata": {},
   "outputs": [],
   "source": [
    "author_grouped = inbOutb.groupby('author_id_y')"
   ]
  },
  {
   "cell_type": "code",
   "execution_count": 21,
   "metadata": {},
   "outputs": [],
   "source": [
    "top_support_providers = set(author_grouped.agg('count')\n",
    "                                .sort_values(['author_id_x'], ascending=[0])\n",
    "                                .index[:20]\n",
    "                                .values)"
   ]
  },
  {
   "cell_type": "code",
   "execution_count": 22,
   "metadata": {},
   "outputs": [
    {
     "data": {
      "text/plain": [
       "<matplotlib.axes._subplots.AxesSubplot at 0x12d07b00>"
      ]
     },
     "execution_count": 22,
     "metadata": {},
     "output_type": "execute_result"
    },
    {
     "data": {
      "image/png": "[encoded data removed]",
      "text/plain": [
       "<Figure size 432x288 with 1 Axes>"
      ]
     },
     "metadata": {},
     "output_type": "display_data"
    }
   ],
   "source": [
    "inbOutb \\\n",
    "    .loc[inbOutb.author_id_y.isin(top_support_providers)] \\\n",
    "    .groupby('author_id_y') \\\n",
    "    .author_id_x.count() \\\n",
    "    .sort_values() \\\n",
    "    .plot('barh', title='Top 20 reply companies')"
   ]
  },
  {
   "cell_type": "code",
   "execution_count": 23,
   "metadata": {},
   "outputs": [],
   "source": [
    "# ! pip install twython"
   ]
  },
  {
   "cell_type": "code",
   "execution_count": 24,
   "metadata": {},
   "outputs": [],
   "source": [
    "from nltk.sentiment.vader import SentimentIntensityAnalyzer\n",
    "from tqdm import tqdm_notebook"
   ]
  },
  {
   "cell_type": "code",
   "execution_count": 25,
   "metadata": {},
   "outputs": [],
   "source": [
    "# Instantiate sentiment analyzer from NLTK, make helper function\n",
    "sentiment_analyzer = SentimentIntensityAnalyzer()\n",
    "\n",
    "def sentiment_for(text: str) -> float:\n",
    "    return sentiment_analyzer.polarity_scores(text)['compound']"
   ]
  },
  {
   "cell_type": "code",
   "execution_count": 26,
   "metadata": {},
   "outputs": [
    {
     "data": {
      "text/plain": [
       "0.4019"
      ]
     },
     "execution_count": 26,
     "metadata": {},
     "output_type": "execute_result"
    }
   ],
   "source": [
    "# Demonstration for sentiment analyzer\n",
    "sentiment_for(\" i will help you\")"
   ]
  },
  {
   "cell_type": "code",
   "execution_count": 27,
   "metadata": {},
   "outputs": [],
   "source": [
    "# Analyze sentiment of inbound customer support requests\n",
    "inbOutb['sentiment'] = \\\n",
    "     inbOutb.text_x.apply(sentiment_for)"
   ]
  },
  {
   "cell_type": "code",
   "execution_count": 28,
   "metadata": {},
   "outputs": [
    {
     "data": {
      "text/html": [
       "<div>\n",
       "<style scoped>\n",
       "    .dataframe tbody tr th:only-of-type {\n",
       "        vertical-align: middle;\n",
       "    }\n",
       "\n",
       "    .dataframe tbody tr th {\n",
       "        vertical-align: top;\n",
       "    }\n",
       "\n",
       "    .dataframe thead th {\n",
       "        text-align: right;\n",
       "    }\n",
       "</style>\n",
       "<table border=\"1\" class=\"dataframe\">\n",
       "  <thead>\n",
       "    <tr style=\"text-align: right;\">\n",
       "      <th></th>\n",
       "      <th>author_id_x</th>\n",
       "      <th>created_at_x</th>\n",
       "      <th>text_x</th>\n",
       "      <th>author_id_y</th>\n",
       "      <th>created_at_y</th>\n",
       "      <th>text_y</th>\n",
       "      <th>sentiment</th>\n",
       "    </tr>\n",
       "  </thead>\n",
       "  <tbody>\n",
       "    <tr>\n",
       "      <th>299536</th>\n",
       "      <td>378651</td>\n",
       "      <td>Fri Oct 13 20:18:30 +0000 2017</td>\n",
       "      <td>@117249 @tesco do either of you sell sake? I'm...</td>\n",
       "      <td>Tesco</td>\n",
       "      <td>Fri Oct 13 21:26:20 +0000 2017</td>\n",
       "      <td>@378651 Hi Skye, if you's like to DM me your p...</td>\n",
       "      <td>0.0000</td>\n",
       "    </tr>\n",
       "    <tr>\n",
       "      <th>402609</th>\n",
       "      <td>459294</td>\n",
       "      <td>Thu Nov 02 17:31:45 +0000 2017</td>\n",
       "      <td>@O2 really disappointed with lack of support. ...</td>\n",
       "      <td>O2</td>\n",
       "      <td>Thu Nov 02 18:26:10 +0000 2017</td>\n",
       "      <td>@459294 Hi Daniel, 😞 Please can you DM us some...</td>\n",
       "      <td>-0.0679</td>\n",
       "    </tr>\n",
       "  </tbody>\n",
       "</table>\n",
       "</div>"
      ],
      "text/plain": [
       "       author_id_x                    created_at_x  \\\n",
       "299536      378651  Fri Oct 13 20:18:30 +0000 2017   \n",
       "402609      459294  Thu Nov 02 17:31:45 +0000 2017   \n",
       "\n",
       "                                                   text_x author_id_y  \\\n",
       "299536  @117249 @tesco do either of you sell sake? I'm...       Tesco   \n",
       "402609  @O2 really disappointed with lack of support. ...          O2   \n",
       "\n",
       "                          created_at_y  \\\n",
       "299536  Fri Oct 13 21:26:20 +0000 2017   \n",
       "402609  Thu Nov 02 18:26:10 +0000 2017   \n",
       "\n",
       "                                                   text_y  sentiment  \n",
       "299536  @378651 Hi Skye, if you's like to DM me your p...     0.0000  \n",
       "402609  @459294 Hi Daniel, 😞 Please can you DM us some...    -0.0679  "
      ]
     },
     "execution_count": 28,
     "metadata": {},
     "output_type": "execute_result"
    }
   ],
   "source": [
    "inbOutb.head(2)"
   ]
  },
  {
   "cell_type": "markdown",
   "metadata": {},
   "source": [
    "* Here sentiment column analysis the each row and gives value for each row."
   ]
  },
  {
   "cell_type": "code",
   "execution_count": 29,
   "metadata": {},
   "outputs": [
    {
     "data": {
      "text/plain": [
       "<matplotlib.axes._subplots.AxesSubplot at 0x1f2dc2b0>"
      ]
     },
     "execution_count": 29,
     "metadata": {},
     "output_type": "execute_result"
    },
    {
     "data": {
      "image/png": "[encoded data removed]",
      "text/plain": [
       "<Figure size 432x288 with 1 Axes>"
      ]
     },
     "metadata": {},
     "output_type": "display_data"
    }
   ],
   "source": [
    "inbOutb\\\n",
    "    .loc[inbOutb.author_id_y.isin(top_support_providers)] \\\n",
    "    .groupby('author_id_y') \\\n",
    "    .sentiment.mean() \\\n",
    "    .sort_values() \\\n",
    "    .plot('barh', title='Customer Sentiment by Brand (top 20 by volume)')"
   ]
  },
  {
   "cell_type": "markdown",
   "metadata": {},
   "source": [
    "* SouthwestAir and Delta are two companies which has most positive tweet percentage.\n",
    "* sprintcare and AppleSupport are two companies with most negative tweets percentage.\n",
    "* It's good that Delta and SpotifyCares companies with highest tweets with positive rates. "
   ]
  },
  {
   "cell_type": "markdown",
   "metadata": {},
   "source": [
    "#### Analysis of tweets after release date of Apple iphone X"
   ]
  },
  {
   "cell_type": "code",
   "execution_count": 30,
   "metadata": {},
   "outputs": [],
   "source": [
    "from datetime import datetime"
   ]
  },
  {
   "cell_type": "code",
   "execution_count": 31,
   "metadata": {},
   "outputs": [],
   "source": [
    "inbOutb['created_at_x'] = pd.to_datetime(inbOutb.created_at_x)"
   ]
  },
  {
   "cell_type": "code",
   "execution_count": 32,
   "metadata": {},
   "outputs": [],
   "source": [
    "apple_tweets = inbOutb \\\n",
    "    .loc[inbOutb.author_id_y == 'AppleSupport'] \\\n",
    "    .loc[inbOutb.created_at_x > datetime(2017, 10, 7)]"
   ]
  },
  {
   "cell_type": "code",
   "execution_count": 33,
   "metadata": {},
   "outputs": [
    {
     "name": "stderr",
     "output_type": "stream",
     "text": [
      "C:\\Users\\kk\\Anaconda3\\lib\\site-packages\\ipykernel_launcher.py:3: FutureWarning: pd.TimeGrouper is deprecated and will be removed; Please use pd.Grouper(freq=...)\n",
      "  This is separate from the ipykernel package so we can avoid doing imports until\n",
      "C:\\Users\\kk\\Anaconda3\\lib\\site-packages\\ipykernel_launcher.py:8: FutureWarning: pd.TimeGrouper is deprecated and will be removed; Please use pd.Grouper(freq=...)\n",
      "  \n"
     ]
    },
    {
     "data": {
      "text/plain": [
       "Text(0,0.5,'Customer Sentiment')"
      ]
     },
     "execution_count": 33,
     "metadata": {},
     "output_type": "execute_result"
    },
    {
     "data": {
      "image/png": "[encoded data removed]",
      "text/plain": [
       "<Figure size 432x288 with 2 Axes>"
      ]
     },
     "metadata": {},
     "output_type": "display_data"
    }
   ],
   "source": [
    "plt.subplot(2, 1, 1)\n",
    "\n",
    "ax = apple_tweets \\\n",
    "    .groupby(pd.TimeGrouper(key='created_at_x', freq='24h')) \\\n",
    "    .count() \\\n",
    "    .author_id_x.sort_index() \\\n",
    "    .plot(title='@AppleSupport Volume & Sentiment - Impact of the iPhone X', kind='area')\n",
    "ax.set_ylabel('Inbound Tweets')\n",
    "    \n",
    "\n",
    "plt.subplot(2, 1, 2)\n",
    "ax = apple_tweets \\\n",
    "    .groupby(pd.TimeGrouper(key='created_at_x', freq='24h')) \\\n",
    "    .sentiment.mean() \\\n",
    "    .sort_index() \\\n",
    "    .plot(color='red')\n",
    "ax.set_ylabel('Customer Sentiment')"
   ]
  },
  {
   "cell_type": "markdown",
   "metadata": {},
   "source": [
    "* Above graph shows tweet after release of iphone X.\n",
    "* Tweets regarding the iphone X could largely impact the positivity or negativity of the company."
   ]
  },
  {
   "cell_type": "markdown",
   "metadata": {},
   "source": [
    "### 3.Text Processing"
   ]
  },
  {
   "cell_type": "markdown",
   "metadata": {},
   "source": [
    "* At this point we use the typical techniques of Natural Language Processing to take full advantage of the texts."
   ]
  },
  {
   "cell_type": "markdown",
   "metadata": {},
   "source": [
    "#### 3.1 Lower case\n",
    "\n",
    "* To convert all uppercase letters to lowercase."
   ]
  },
  {
   "cell_type": "code",
   "execution_count": 34,
   "metadata": {},
   "outputs": [],
   "source": [
    "def remove_uppercase(text):\n",
    "    text_lowercase = ' '.join(x.lower() for x in text.split())# It will discard all uppercases\n",
    "    return text_lowercase"
   ]
  },
  {
   "cell_type": "code",
   "execution_count": 35,
   "metadata": {},
   "outputs": [],
   "source": [
    "inbOutb['text_x_clean'] = inbOutb['text_x'].apply(lambda x: remove_uppercase(x))\n",
    "inbOutb['text_y_clean'] = inbOutb['text_y'].apply(lambda x: remove_uppercase(x))\n",
    "inbOutb['author_id_y'] = inbOutb['author_id_y'].apply(lambda x: remove_uppercase(x)) "
   ]
  },
  {
   "cell_type": "code",
   "execution_count": 36,
   "metadata": {},
   "outputs": [
    {
     "data": {
      "text/html": [
       "<div>\n",
       "<style scoped>\n",
       "    .dataframe tbody tr th:only-of-type {\n",
       "        vertical-align: middle;\n",
       "    }\n",
       "\n",
       "    .dataframe tbody tr th {\n",
       "        vertical-align: top;\n",
       "    }\n",
       "\n",
       "    .dataframe thead th {\n",
       "        text-align: right;\n",
       "    }\n",
       "</style>\n",
       "<table border=\"1\" class=\"dataframe\">\n",
       "  <thead>\n",
       "    <tr style=\"text-align: right;\">\n",
       "      <th></th>\n",
       "      <th>author_id_x</th>\n",
       "      <th>created_at_x</th>\n",
       "      <th>text_x</th>\n",
       "      <th>author_id_y</th>\n",
       "      <th>created_at_y</th>\n",
       "      <th>text_y</th>\n",
       "      <th>sentiment</th>\n",
       "      <th>text_x_clean</th>\n",
       "      <th>text_y_clean</th>\n",
       "    </tr>\n",
       "  </thead>\n",
       "  <tbody>\n",
       "    <tr>\n",
       "      <th>299536</th>\n",
       "      <td>378651</td>\n",
       "      <td>2017-10-13 20:18:30</td>\n",
       "      <td>@117249 @tesco do either of you sell sake? I'm...</td>\n",
       "      <td>tesco</td>\n",
       "      <td>Fri Oct 13 21:26:20 +0000 2017</td>\n",
       "      <td>@378651 Hi Skye, if you's like to DM me your p...</td>\n",
       "      <td>0.0000</td>\n",
       "      <td>@117249 @tesco do either of you sell sake? i'm...</td>\n",
       "      <td>@378651 hi skye, if you's like to dm me your p...</td>\n",
       "    </tr>\n",
       "    <tr>\n",
       "      <th>402609</th>\n",
       "      <td>459294</td>\n",
       "      <td>2017-11-02 17:31:45</td>\n",
       "      <td>@O2 really disappointed with lack of support. ...</td>\n",
       "      <td>o2</td>\n",
       "      <td>Thu Nov 02 18:26:10 +0000 2017</td>\n",
       "      <td>@459294 Hi Daniel, 😞 Please can you DM us some...</td>\n",
       "      <td>-0.0679</td>\n",
       "      <td>@o2 really disappointed with lack of support. ...</td>\n",
       "      <td>@459294 hi daniel, 😞 please can you dm us some...</td>\n",
       "    </tr>\n",
       "  </tbody>\n",
       "</table>\n",
       "</div>"
      ],
      "text/plain": [
       "       author_id_x        created_at_x  \\\n",
       "299536      378651 2017-10-13 20:18:30   \n",
       "402609      459294 2017-11-02 17:31:45   \n",
       "\n",
       "                                                   text_x author_id_y  \\\n",
       "299536  @117249 @tesco do either of you sell sake? I'm...       tesco   \n",
       "402609  @O2 really disappointed with lack of support. ...          o2   \n",
       "\n",
       "                          created_at_y  \\\n",
       "299536  Fri Oct 13 21:26:20 +0000 2017   \n",
       "402609  Thu Nov 02 18:26:10 +0000 2017   \n",
       "\n",
       "                                                   text_y  sentiment  \\\n",
       "299536  @378651 Hi Skye, if you's like to DM me your p...     0.0000   \n",
       "402609  @459294 Hi Daniel, 😞 Please can you DM us some...    -0.0679   \n",
       "\n",
       "                                             text_x_clean  \\\n",
       "299536  @117249 @tesco do either of you sell sake? i'm...   \n",
       "402609  @o2 really disappointed with lack of support. ...   \n",
       "\n",
       "                                             text_y_clean  \n",
       "299536  @378651 hi skye, if you's like to dm me your p...  \n",
       "402609  @459294 hi daniel, 😞 please can you dm us some...  "
      ]
     },
     "execution_count": 36,
     "metadata": {},
     "output_type": "execute_result"
    }
   ],
   "source": [
    "inbOutb.head(2)"
   ]
  },
  {
   "cell_type": "markdown",
   "metadata": {},
   "source": [
    "#### 3.2 Remove puntuactions"
   ]
  },
  {
   "cell_type": "markdown",
   "metadata": {},
   "source": [
    "* Punctuation can provide grammatical context to a sentence which supports our understanding. But for our vectorizer which counts the number of words and not the context, it does not add value, so we remove all special characters."
   ]
  },
  {
   "cell_type": "code",
   "execution_count": 37,
   "metadata": {},
   "outputs": [
    {
     "data": {
      "text/plain": [
       "'!\"#$%&\\'()*+,-./:;<=>?@[\\\\]^_`{|}~'"
      ]
     },
     "execution_count": 37,
     "metadata": {},
     "output_type": "execute_result"
    }
   ],
   "source": [
    "import string\n",
    "string.punctuation"
   ]
  },
  {
   "cell_type": "code",
   "execution_count": 38,
   "metadata": {},
   "outputs": [],
   "source": [
    "#Function to remove Punctuation\n",
    "def remove_punct(text):\n",
    "    text_nopunct = \"\".join([char for char in text if char not in string.punctuation])# It will discard all punctuations\n",
    "    return text_nopunct"
   ]
  },
  {
   "cell_type": "code",
   "execution_count": 39,
   "metadata": {},
   "outputs": [],
   "source": [
    "inbOutb['text_x_clean'] = inbOutb['text_x_clean'].apply(lambda x: remove_punct(x))\n",
    "inbOutb['text_y_clean'] = inbOutb['text_y_clean'].apply(lambda x: remove_punct(x))"
   ]
  },
  {
   "cell_type": "code",
   "execution_count": 40,
   "metadata": {},
   "outputs": [
    {
     "data": {
      "text/html": [
       "<div>\n",
       "<style scoped>\n",
       "    .dataframe tbody tr th:only-of-type {\n",
       "        vertical-align: middle;\n",
       "    }\n",
       "\n",
       "    .dataframe tbody tr th {\n",
       "        vertical-align: top;\n",
       "    }\n",
       "\n",
       "    .dataframe thead th {\n",
       "        text-align: right;\n",
       "    }\n",
       "</style>\n",
       "<table border=\"1\" class=\"dataframe\">\n",
       "  <thead>\n",
       "    <tr style=\"text-align: right;\">\n",
       "      <th></th>\n",
       "      <th>author_id_x</th>\n",
       "      <th>created_at_x</th>\n",
       "      <th>text_x</th>\n",
       "      <th>author_id_y</th>\n",
       "      <th>created_at_y</th>\n",
       "      <th>text_y</th>\n",
       "      <th>sentiment</th>\n",
       "      <th>text_x_clean</th>\n",
       "      <th>text_y_clean</th>\n",
       "    </tr>\n",
       "  </thead>\n",
       "  <tbody>\n",
       "    <tr>\n",
       "      <th>299536</th>\n",
       "      <td>378651</td>\n",
       "      <td>2017-10-13 20:18:30</td>\n",
       "      <td>@117249 @tesco do either of you sell sake? I'm...</td>\n",
       "      <td>tesco</td>\n",
       "      <td>Fri Oct 13 21:26:20 +0000 2017</td>\n",
       "      <td>@378651 Hi Skye, if you's like to DM me your p...</td>\n",
       "      <td>0.0000</td>\n",
       "      <td>117249 tesco do either of you sell sake im wan...</td>\n",
       "      <td>378651 hi skye if yous like to dm me your post...</td>\n",
       "    </tr>\n",
       "    <tr>\n",
       "      <th>402609</th>\n",
       "      <td>459294</td>\n",
       "      <td>2017-11-02 17:31:45</td>\n",
       "      <td>@O2 really disappointed with lack of support. ...</td>\n",
       "      <td>o2</td>\n",
       "      <td>Thu Nov 02 18:26:10 +0000 2017</td>\n",
       "      <td>@459294 Hi Daniel, 😞 Please can you DM us some...</td>\n",
       "      <td>-0.0679</td>\n",
       "      <td>o2 really disappointed with lack of support wo...</td>\n",
       "      <td>459294 hi daniel 😞 please can you dm us some m...</td>\n",
       "    </tr>\n",
       "  </tbody>\n",
       "</table>\n",
       "</div>"
      ],
      "text/plain": [
       "       author_id_x        created_at_x  \\\n",
       "299536      378651 2017-10-13 20:18:30   \n",
       "402609      459294 2017-11-02 17:31:45   \n",
       "\n",
       "                                                   text_x author_id_y  \\\n",
       "299536  @117249 @tesco do either of you sell sake? I'm...       tesco   \n",
       "402609  @O2 really disappointed with lack of support. ...          o2   \n",
       "\n",
       "                          created_at_y  \\\n",
       "299536  Fri Oct 13 21:26:20 +0000 2017   \n",
       "402609  Thu Nov 02 18:26:10 +0000 2017   \n",
       "\n",
       "                                                   text_y  sentiment  \\\n",
       "299536  @378651 Hi Skye, if you's like to DM me your p...     0.0000   \n",
       "402609  @459294 Hi Daniel, 😞 Please can you DM us some...    -0.0679   \n",
       "\n",
       "                                             text_x_clean  \\\n",
       "299536  117249 tesco do either of you sell sake im wan...   \n",
       "402609  o2 really disappointed with lack of support wo...   \n",
       "\n",
       "                                             text_y_clean  \n",
       "299536  378651 hi skye if yous like to dm me your post...  \n",
       "402609  459294 hi daniel 😞 please can you dm us some m...  "
      ]
     },
     "execution_count": 40,
     "metadata": {},
     "output_type": "execute_result"
    }
   ],
   "source": [
    "inbOutb.head(2)"
   ]
  },
  {
   "cell_type": "markdown",
   "metadata": {},
   "source": [
    "#### 3.3 Removing Usernames"
   ]
  },
  {
   "cell_type": "code",
   "execution_count": 41,
   "metadata": {},
   "outputs": [],
   "source": [
    "companies = inbOutb['author_id_y'].unique()\n",
    "inbOutb['text_x_clean'] = inbOutb['text_x_clean'].str.replace('\\d+', '')\n",
    "inbOutb['text_y_clean'] = inbOutb['text_y_clean'].str.replace('\\d+', '')"
   ]
  },
  {
   "cell_type": "code",
   "execution_count": 42,
   "metadata": {},
   "outputs": [
    {
     "data": {
      "text/html": [
       "<div>\n",
       "<style scoped>\n",
       "    .dataframe tbody tr th:only-of-type {\n",
       "        vertical-align: middle;\n",
       "    }\n",
       "\n",
       "    .dataframe tbody tr th {\n",
       "        vertical-align: top;\n",
       "    }\n",
       "\n",
       "    .dataframe thead th {\n",
       "        text-align: right;\n",
       "    }\n",
       "</style>\n",
       "<table border=\"1\" class=\"dataframe\">\n",
       "  <thead>\n",
       "    <tr style=\"text-align: right;\">\n",
       "      <th></th>\n",
       "      <th>author_id_x</th>\n",
       "      <th>created_at_x</th>\n",
       "      <th>text_x</th>\n",
       "      <th>author_id_y</th>\n",
       "      <th>created_at_y</th>\n",
       "      <th>text_y</th>\n",
       "      <th>sentiment</th>\n",
       "      <th>text_x_clean</th>\n",
       "      <th>text_y_clean</th>\n",
       "    </tr>\n",
       "  </thead>\n",
       "  <tbody>\n",
       "    <tr>\n",
       "      <th>299536</th>\n",
       "      <td>378651</td>\n",
       "      <td>2017-10-13 20:18:30</td>\n",
       "      <td>@117249 @tesco do either of you sell sake? I'm...</td>\n",
       "      <td>tesco</td>\n",
       "      <td>Fri Oct 13 21:26:20 +0000 2017</td>\n",
       "      <td>@378651 Hi Skye, if you's like to DM me your p...</td>\n",
       "      <td>0.0000</td>\n",
       "      <td>do either of you sell sake im wanting some a...</td>\n",
       "      <td>hi skye if yous like to dm me your postcode i...</td>\n",
       "    </tr>\n",
       "    <tr>\n",
       "      <th>402609</th>\n",
       "      <td>459294</td>\n",
       "      <td>2017-11-02 17:31:45</td>\n",
       "      <td>@O2 really disappointed with lack of support. ...</td>\n",
       "      <td>o2</td>\n",
       "      <td>Thu Nov 02 18:26:10 +0000 2017</td>\n",
       "      <td>@459294 Hi Daniel, 😞 Please can you DM us some...</td>\n",
       "      <td>-0.0679</td>\n",
       "      <td>o really disappointed with lack of support wou...</td>\n",
       "      <td>hi daniel 😞 please can you dm us some more de...</td>\n",
       "    </tr>\n",
       "  </tbody>\n",
       "</table>\n",
       "</div>"
      ],
      "text/plain": [
       "       author_id_x        created_at_x  \\\n",
       "299536      378651 2017-10-13 20:18:30   \n",
       "402609      459294 2017-11-02 17:31:45   \n",
       "\n",
       "                                                   text_x author_id_y  \\\n",
       "299536  @117249 @tesco do either of you sell sake? I'm...       tesco   \n",
       "402609  @O2 really disappointed with lack of support. ...          o2   \n",
       "\n",
       "                          created_at_y  \\\n",
       "299536  Fri Oct 13 21:26:20 +0000 2017   \n",
       "402609  Thu Nov 02 18:26:10 +0000 2017   \n",
       "\n",
       "                                                   text_y  sentiment  \\\n",
       "299536  @378651 Hi Skye, if you's like to DM me your p...     0.0000   \n",
       "402609  @459294 Hi Daniel, 😞 Please can you DM us some...    -0.0679   \n",
       "\n",
       "                                             text_x_clean  \\\n",
       "299536    do either of you sell sake im wanting some a...   \n",
       "402609  o really disappointed with lack of support wou...   \n",
       "\n",
       "                                             text_y_clean  \n",
       "299536   hi skye if yous like to dm me your postcode i...  \n",
       "402609   hi daniel 😞 please can you dm us some more de...  "
      ]
     },
     "execution_count": 42,
     "metadata": {},
     "output_type": "execute_result"
    }
   ],
   "source": [
    "inbOutb['text_x_clean'] = inbOutb['text_x_clean'].str.replace('|'.join(companies), '')\n",
    "inbOutb['text_y_clean'] = inbOutb['text_y_clean'].str.replace('|'.join(companies), '')\n",
    "inbOutb.head(2)"
   ]
  },
  {
   "cell_type": "markdown",
   "metadata": {},
   "source": [
    "#### 3.4 Checking for most freqen words and removing them"
   ]
  },
  {
   "cell_type": "code",
   "execution_count": 43,
   "metadata": {},
   "outputs": [
    {
     "name": "stdout",
     "output_type": "stream",
     "text": [
      "FREQ X: \n",
      " to     450771\n",
      "i      402429\n",
      "the    394086\n",
      "my     310607\n",
      "a      289704\n",
      "and    250549\n",
      "is     210765\n",
      "for    199934\n",
      "on     184365\n",
      "you    172960\n",
      "dtype: int64 \n",
      "FREQ Y: \n",
      " to      597010\n",
      "you     562841\n",
      "the     438571\n",
      "your    355927\n",
      "we      300935\n",
      "us      281678\n",
      "for     280735\n",
      "can     262541\n",
      "a       257072\n",
      "this    245768\n",
      "dtype: int64\n"
     ]
    }
   ],
   "source": [
    "# common worlds\n",
    "\n",
    "freqX = pd.Series(' '.join(inbOutb['text_x_clean']).split()).value_counts()[:10]\n",
    "freqY = pd.Series(' '.join(inbOutb['text_y_clean']).split()).value_counts()[:10]\n",
    "print('FREQ X: \\n',freqX,'\\nFREQ Y: \\n', freqY)"
   ]
  },
  {
   "cell_type": "markdown",
   "metadata": {},
   "source": [
    "* Having those words doesn't add value to the dataset. So we drop them"
   ]
  },
  {
   "cell_type": "code",
   "execution_count": 44,
   "metadata": {},
   "outputs": [],
   "source": [
    "#removing them\n",
    "freqX = list(freqX.index)\n",
    "freqY = list(freqY.index)\n",
    "inbOutb['text_x_clean'] = inbOutb['text_x_clean'].apply(lambda x: \" \".join(x for x in x.split() if x not in freqX))\n",
    "inbOutb['text_y_clean'] = inbOutb['text_y_clean'].apply(lambda x: \" \".join(x for x in x.split() if x not in freqY))"
   ]
  },
  {
   "cell_type": "markdown",
   "metadata": {},
   "source": [
    "#### 3.5 Checking the rare words and drop them"
   ]
  },
  {
   "cell_type": "code",
   "execution_count": 45,
   "metadata": {},
   "outputs": [],
   "source": [
    "rareX = pd.Series(' '.join(inbOutb['text_x_clean']).split()).value_counts()[-100:]\n",
    "rareY = pd.Series(' '.join(inbOutb['text_y_clean']).split()).value_counts()[-100:]"
   ]
  },
  {
   "cell_type": "code",
   "execution_count": 46,
   "metadata": {},
   "outputs": [],
   "source": [
    "#removing them\n",
    "rareX = list(rareX.index)\n",
    "rareY = list(rareY.index)\n",
    "inbOutb['text_x_clean'] = inbOutb['text_x_clean'].apply(lambda x: \" \".join(x for x in x.split() if x not in rareX))\n",
    "inbOutb['text_y_clean'] = inbOutb['text_y_clean'].apply(lambda x: \" \".join(x for x in x.split() if x not in rareY))"
   ]
  },
  {
   "cell_type": "markdown",
   "metadata": {},
   "source": [
    "#### 3.6 Tokenizing"
   ]
  },
  {
   "cell_type": "markdown",
   "metadata": {},
   "source": [
    "* Tokenizing separates text into units such as sentences or words. It gives structure to previously unstructured text."
   ]
  },
  {
   "cell_type": "code",
   "execution_count": 47,
   "metadata": {},
   "outputs": [],
   "source": [
    "import re\n",
    "\n",
    "# Function to Tokenize words\n",
    "def tokenize(text):\n",
    "    tokens = re.split('\\W+', text) #W+ means that either a word character (A-Za-z0-9_) or a dash (-) can go there.\n",
    "    return tokens"
   ]
  },
  {
   "cell_type": "code",
   "execution_count": 48,
   "metadata": {},
   "outputs": [],
   "source": [
    "inbOutb['text_x_tokenized'] = inbOutb['text_x_clean'].apply(lambda x: tokenize(x.lower())) \n",
    "inbOutb['text_y_tokenized'] = inbOutb['text_y_clean'].apply(lambda x: tokenize(x.lower()))"
   ]
  },
  {
   "cell_type": "code",
   "execution_count": 49,
   "metadata": {},
   "outputs": [
    {
     "data": {
      "text/html": [
       "<div>\n",
       "<style scoped>\n",
       "    .dataframe tbody tr th:only-of-type {\n",
       "        vertical-align: middle;\n",
       "    }\n",
       "\n",
       "    .dataframe tbody tr th {\n",
       "        vertical-align: top;\n",
       "    }\n",
       "\n",
       "    .dataframe thead th {\n",
       "        text-align: right;\n",
       "    }\n",
       "</style>\n",
       "<table border=\"1\" class=\"dataframe\">\n",
       "  <thead>\n",
       "    <tr style=\"text-align: right;\">\n",
       "      <th></th>\n",
       "      <th>author_id_x</th>\n",
       "      <th>created_at_x</th>\n",
       "      <th>text_x</th>\n",
       "      <th>author_id_y</th>\n",
       "      <th>created_at_y</th>\n",
       "      <th>text_y</th>\n",
       "      <th>sentiment</th>\n",
       "      <th>text_x_clean</th>\n",
       "      <th>text_y_clean</th>\n",
       "      <th>text_x_tokenized</th>\n",
       "      <th>text_y_tokenized</th>\n",
       "    </tr>\n",
       "  </thead>\n",
       "  <tbody>\n",
       "    <tr>\n",
       "      <th>299536</th>\n",
       "      <td>378651</td>\n",
       "      <td>2017-10-13 20:18:30</td>\n",
       "      <td>@117249 @tesco do either of you sell sake? I'm...</td>\n",
       "      <td>tesco</td>\n",
       "      <td>Fri Oct 13 21:26:20 +0000 2017</td>\n",
       "      <td>@378651 Hi Skye, if you's like to DM me your p...</td>\n",
       "      <td>0.0000</td>\n",
       "      <td>do either of sell sake im wanting some both of...</td>\n",
       "      <td>hi skye if yous like dm me postcode i check lo...</td>\n",
       "      <td>[do, either, of, sell, sake, im, wanting, some...</td>\n",
       "      <td>[hi, skye, if, yous, like, dm, me, postcode, i...</td>\n",
       "    </tr>\n",
       "    <tr>\n",
       "      <th>402609</th>\n",
       "      <td>459294</td>\n",
       "      <td>2017-11-02 17:31:45</td>\n",
       "      <td>@O2 really disappointed with lack of support. ...</td>\n",
       "      <td>o2</td>\n",
       "      <td>Thu Nov 02 18:26:10 +0000 2017</td>\n",
       "      <td>@459294 Hi Daniel, 😞 Please can you DM us some...</td>\n",
       "      <td>-0.0679</td>\n",
       "      <td>o really disappointed with lack of support wou...</td>\n",
       "      <td>hi daniel 😞 please dm some more details about ...</td>\n",
       "      <td>[o, really, disappointed, with, lack, of, supp...</td>\n",
       "      <td>[hi, daniel, please, dm, some, more, details, ...</td>\n",
       "    </tr>\n",
       "  </tbody>\n",
       "</table>\n",
       "</div>"
      ],
      "text/plain": [
       "       author_id_x        created_at_x  \\\n",
       "299536      378651 2017-10-13 20:18:30   \n",
       "402609      459294 2017-11-02 17:31:45   \n",
       "\n",
       "                                                   text_x author_id_y  \\\n",
       "299536  @117249 @tesco do either of you sell sake? I'm...       tesco   \n",
       "402609  @O2 really disappointed with lack of support. ...          o2   \n",
       "\n",
       "                          created_at_y  \\\n",
       "299536  Fri Oct 13 21:26:20 +0000 2017   \n",
       "402609  Thu Nov 02 18:26:10 +0000 2017   \n",
       "\n",
       "                                                   text_y  sentiment  \\\n",
       "299536  @378651 Hi Skye, if you's like to DM me your p...     0.0000   \n",
       "402609  @459294 Hi Daniel, 😞 Please can you DM us some...    -0.0679   \n",
       "\n",
       "                                             text_x_clean  \\\n",
       "299536  do either of sell sake im wanting some both of...   \n",
       "402609  o really disappointed with lack of support wou...   \n",
       "\n",
       "                                             text_y_clean  \\\n",
       "299536  hi skye if yous like dm me postcode i check lo...   \n",
       "402609  hi daniel 😞 please dm some more details about ...   \n",
       "\n",
       "                                         text_x_tokenized  \\\n",
       "299536  [do, either, of, sell, sake, im, wanting, some...   \n",
       "402609  [o, really, disappointed, with, lack, of, supp...   \n",
       "\n",
       "                                         text_y_tokenized  \n",
       "299536  [hi, skye, if, yous, like, dm, me, postcode, i...  \n",
       "402609  [hi, daniel, please, dm, some, more, details, ...  "
      ]
     },
     "execution_count": 49,
     "metadata": {},
     "output_type": "execute_result"
    }
   ],
   "source": [
    "inbOutb.head(2)"
   ]
  },
  {
   "cell_type": "markdown",
   "metadata": {},
   "source": [
    "#### 3.7 Stopwords"
   ]
  },
  {
   "cell_type": "markdown",
   "metadata": {},
   "source": [
    "* Stopwords are common words that will likely appear in any text. They don’t tell us much about our data so we remove them. eg: is, the"
   ]
  },
  {
   "cell_type": "code",
   "execution_count": 50,
   "metadata": {},
   "outputs": [],
   "source": [
    "import nltk\n",
    "\n",
    "stopword = nltk.corpus.stopwords.words('english') # All English Stopwords\n",
    "\n",
    "# Function to remove Stopwords\n",
    "def remove_stopwords(tokenized_list):\n",
    "    text = [word for word in tokenized_list if word not in stopword]# To remove all stopwords\n",
    "    return text\n",
    "\n",
    "inbOutb['text_x_tokenized'] = inbOutb['text_x_tokenized'].apply(lambda x: remove_stopwords(x))\n",
    "inbOutb['text_y_tokenized'] = inbOutb['text_y_tokenized'].apply(lambda x: remove_stopwords(x))"
   ]
  },
  {
   "cell_type": "code",
   "execution_count": 51,
   "metadata": {},
   "outputs": [
    {
     "data": {
      "text/html": [
       "<div>\n",
       "<style scoped>\n",
       "    .dataframe tbody tr th:only-of-type {\n",
       "        vertical-align: middle;\n",
       "    }\n",
       "\n",
       "    .dataframe tbody tr th {\n",
       "        vertical-align: top;\n",
       "    }\n",
       "\n",
       "    .dataframe thead th {\n",
       "        text-align: right;\n",
       "    }\n",
       "</style>\n",
       "<table border=\"1\" class=\"dataframe\">\n",
       "  <thead>\n",
       "    <tr style=\"text-align: right;\">\n",
       "      <th></th>\n",
       "      <th>author_id_x</th>\n",
       "      <th>created_at_x</th>\n",
       "      <th>text_x</th>\n",
       "      <th>author_id_y</th>\n",
       "      <th>created_at_y</th>\n",
       "      <th>text_y</th>\n",
       "      <th>sentiment</th>\n",
       "      <th>text_x_clean</th>\n",
       "      <th>text_y_clean</th>\n",
       "      <th>text_x_tokenized</th>\n",
       "      <th>text_y_tokenized</th>\n",
       "    </tr>\n",
       "  </thead>\n",
       "  <tbody>\n",
       "    <tr>\n",
       "      <th>299536</th>\n",
       "      <td>378651</td>\n",
       "      <td>2017-10-13 20:18:30</td>\n",
       "      <td>@117249 @tesco do either of you sell sake? I'm...</td>\n",
       "      <td>tesco</td>\n",
       "      <td>Fri Oct 13 21:26:20 +0000 2017</td>\n",
       "      <td>@378651 Hi Skye, if you's like to DM me your p...</td>\n",
       "      <td>0.0000</td>\n",
       "      <td>do either of sell sake im wanting some both of...</td>\n",
       "      <td>hi skye if yous like dm me postcode i check lo...</td>\n",
       "      <td>[either, sell, sake, im, wanting, closest]</td>\n",
       "      <td>[hi, skye, yous, like, dm, postcode, check, lo...</td>\n",
       "    </tr>\n",
       "    <tr>\n",
       "      <th>402609</th>\n",
       "      <td>459294</td>\n",
       "      <td>2017-11-02 17:31:45</td>\n",
       "      <td>@O2 really disappointed with lack of support. ...</td>\n",
       "      <td>o2</td>\n",
       "      <td>Thu Nov 02 18:26:10 +0000 2017</td>\n",
       "      <td>@459294 Hi Daniel, 😞 Please can you DM us some...</td>\n",
       "      <td>-0.0679</td>\n",
       "      <td>o really disappointed with lack of support wou...</td>\n",
       "      <td>hi daniel 😞 please dm some more details about ...</td>\n",
       "      <td>[really, disappointed, lack, support, would, r...</td>\n",
       "      <td>[hi, daniel, please, dm, details, whats, happe...</td>\n",
       "    </tr>\n",
       "  </tbody>\n",
       "</table>\n",
       "</div>"
      ],
      "text/plain": [
       "       author_id_x        created_at_x  \\\n",
       "299536      378651 2017-10-13 20:18:30   \n",
       "402609      459294 2017-11-02 17:31:45   \n",
       "\n",
       "                                                   text_x author_id_y  \\\n",
       "299536  @117249 @tesco do either of you sell sake? I'm...       tesco   \n",
       "402609  @O2 really disappointed with lack of support. ...          o2   \n",
       "\n",
       "                          created_at_y  \\\n",
       "299536  Fri Oct 13 21:26:20 +0000 2017   \n",
       "402609  Thu Nov 02 18:26:10 +0000 2017   \n",
       "\n",
       "                                                   text_y  sentiment  \\\n",
       "299536  @378651 Hi Skye, if you's like to DM me your p...     0.0000   \n",
       "402609  @459294 Hi Daniel, 😞 Please can you DM us some...    -0.0679   \n",
       "\n",
       "                                             text_x_clean  \\\n",
       "299536  do either of sell sake im wanting some both of...   \n",
       "402609  o really disappointed with lack of support wou...   \n",
       "\n",
       "                                             text_y_clean  \\\n",
       "299536  hi skye if yous like dm me postcode i check lo...   \n",
       "402609  hi daniel 😞 please dm some more details about ...   \n",
       "\n",
       "                                         text_x_tokenized  \\\n",
       "299536         [either, sell, sake, im, wanting, closest]   \n",
       "402609  [really, disappointed, lack, support, would, r...   \n",
       "\n",
       "                                         text_y_tokenized  \n",
       "299536  [hi, skye, yous, like, dm, postcode, check, lo...  \n",
       "402609  [hi, daniel, please, dm, details, whats, happe...  "
      ]
     },
     "execution_count": 51,
     "metadata": {},
     "output_type": "execute_result"
    }
   ],
   "source": [
    "inbOutb.head(2)"
   ]
  },
  {
   "cell_type": "markdown",
   "metadata": {},
   "source": [
    "#### 3.8 Stemming"
   ]
  },
  {
   "cell_type": "markdown",
   "metadata": {},
   "source": [
    "* Stemming helps reduce a word to its stem form. It often makes sense to treat related words in the same way. It removes suffices, like “ing”, “ly”, “s”, etc. by a simple rule-based approach.\n",
    "* It reduces the corpus of words but often the actual words get neglected. eg: Entitling,Entitled->Entitl"
   ]
  },
  {
   "cell_type": "markdown",
   "metadata": {},
   "source": [
    "#### 3.9 Lemmatizing"
   ]
  },
  {
   "cell_type": "markdown",
   "metadata": {},
   "source": [
    "* Lemmatizing derives the canonical form (‘lemma’) of a word. i.e the root form. It is better than stemming as it uses a dictionary-based approach i.e a morphological analysis to the root word.eg: Entitling, Entitled->Entitle"
   ]
  },
  {
   "cell_type": "code",
   "execution_count": 52,
   "metadata": {},
   "outputs": [],
   "source": [
    "wn = nltk.WordNetLemmatizer()\n",
    "\n",
    "def lemmatizing(tokenized_text):\n",
    "    text = [wn.lemmatize(word) for word in tokenized_text]\n",
    "    return text"
   ]
  },
  {
   "cell_type": "code",
   "execution_count": 53,
   "metadata": {},
   "outputs": [
    {
     "data": {
      "text/html": [
       "<div>\n",
       "<style scoped>\n",
       "    .dataframe tbody tr th:only-of-type {\n",
       "        vertical-align: middle;\n",
       "    }\n",
       "\n",
       "    .dataframe tbody tr th {\n",
       "        vertical-align: top;\n",
       "    }\n",
       "\n",
       "    .dataframe thead th {\n",
       "        text-align: right;\n",
       "    }\n",
       "</style>\n",
       "<table border=\"1\" class=\"dataframe\">\n",
       "  <thead>\n",
       "    <tr style=\"text-align: right;\">\n",
       "      <th></th>\n",
       "      <th>author_id_x</th>\n",
       "      <th>created_at_x</th>\n",
       "      <th>text_x</th>\n",
       "      <th>author_id_y</th>\n",
       "      <th>created_at_y</th>\n",
       "      <th>text_y</th>\n",
       "      <th>sentiment</th>\n",
       "      <th>text_x_clean</th>\n",
       "      <th>text_y_clean</th>\n",
       "      <th>text_x_tokenized</th>\n",
       "      <th>text_y_tokenized</th>\n",
       "      <th>text_x_lemmatized</th>\n",
       "      <th>text_y_lemmatized</th>\n",
       "    </tr>\n",
       "  </thead>\n",
       "  <tbody>\n",
       "    <tr>\n",
       "      <th>299536</th>\n",
       "      <td>378651</td>\n",
       "      <td>2017-10-13 20:18:30</td>\n",
       "      <td>@117249 @tesco do either of you sell sake? I'm...</td>\n",
       "      <td>tesco</td>\n",
       "      <td>Fri Oct 13 21:26:20 +0000 2017</td>\n",
       "      <td>@378651 Hi Skye, if you's like to DM me your p...</td>\n",
       "      <td>0.0000</td>\n",
       "      <td>do either of sell sake im wanting some both of...</td>\n",
       "      <td>hi skye if yous like dm me postcode i check lo...</td>\n",
       "      <td>[either, sell, sake, im, wanting, closest]</td>\n",
       "      <td>[hi, skye, yous, like, dm, postcode, check, lo...</td>\n",
       "      <td>[either, sell, sake, im, wanting, closest]</td>\n",
       "      <td>[hi, skye, yous, like, dm, postcode, check, lo...</td>\n",
       "    </tr>\n",
       "    <tr>\n",
       "      <th>402609</th>\n",
       "      <td>459294</td>\n",
       "      <td>2017-11-02 17:31:45</td>\n",
       "      <td>@O2 really disappointed with lack of support. ...</td>\n",
       "      <td>o2</td>\n",
       "      <td>Thu Nov 02 18:26:10 +0000 2017</td>\n",
       "      <td>@459294 Hi Daniel, 😞 Please can you DM us some...</td>\n",
       "      <td>-0.0679</td>\n",
       "      <td>o really disappointed with lack of support wou...</td>\n",
       "      <td>hi daniel 😞 please dm some more details about ...</td>\n",
       "      <td>[really, disappointed, lack, support, would, r...</td>\n",
       "      <td>[hi, daniel, please, dm, details, whats, happe...</td>\n",
       "      <td>[really, disappointed, lack, support, would, r...</td>\n",
       "      <td>[hi, daniel, please, dm, detail, whats, happen...</td>\n",
       "    </tr>\n",
       "  </tbody>\n",
       "</table>\n",
       "</div>"
      ],
      "text/plain": [
       "       author_id_x        created_at_x  \\\n",
       "299536      378651 2017-10-13 20:18:30   \n",
       "402609      459294 2017-11-02 17:31:45   \n",
       "\n",
       "                                                   text_x author_id_y  \\\n",
       "299536  @117249 @tesco do either of you sell sake? I'm...       tesco   \n",
       "402609  @O2 really disappointed with lack of support. ...          o2   \n",
       "\n",
       "                          created_at_y  \\\n",
       "299536  Fri Oct 13 21:26:20 +0000 2017   \n",
       "402609  Thu Nov 02 18:26:10 +0000 2017   \n",
       "\n",
       "                                                   text_y  sentiment  \\\n",
       "299536  @378651 Hi Skye, if you's like to DM me your p...     0.0000   \n",
       "402609  @459294 Hi Daniel, 😞 Please can you DM us some...    -0.0679   \n",
       "\n",
       "                                             text_x_clean  \\\n",
       "299536  do either of sell sake im wanting some both of...   \n",
       "402609  o really disappointed with lack of support wou...   \n",
       "\n",
       "                                             text_y_clean  \\\n",
       "299536  hi skye if yous like dm me postcode i check lo...   \n",
       "402609  hi daniel 😞 please dm some more details about ...   \n",
       "\n",
       "                                         text_x_tokenized  \\\n",
       "299536         [either, sell, sake, im, wanting, closest]   \n",
       "402609  [really, disappointed, lack, support, would, r...   \n",
       "\n",
       "                                         text_y_tokenized  \\\n",
       "299536  [hi, skye, yous, like, dm, postcode, check, lo...   \n",
       "402609  [hi, daniel, please, dm, details, whats, happe...   \n",
       "\n",
       "                                        text_x_lemmatized  \\\n",
       "299536         [either, sell, sake, im, wanting, closest]   \n",
       "402609  [really, disappointed, lack, support, would, r...   \n",
       "\n",
       "                                        text_y_lemmatized  \n",
       "299536  [hi, skye, yous, like, dm, postcode, check, lo...  \n",
       "402609  [hi, daniel, please, dm, detail, whats, happen...  "
      ]
     },
     "execution_count": 53,
     "metadata": {},
     "output_type": "execute_result"
    }
   ],
   "source": [
    "inbOutb['text_x_lemmatized'] = inbOutb['text_x_tokenized'].apply(lambda x: lemmatizing(x))\n",
    "inbOutb['text_y_lemmatized'] = inbOutb['text_y_tokenized'].apply(lambda x: lemmatizing(x))\n",
    "inbOutb.head(2)"
   ]
  },
  {
   "cell_type": "code",
   "execution_count": 54,
   "metadata": {},
   "outputs": [
    {
     "data": {
      "text/plain": [
       "(794299, 13)"
      ]
     },
     "execution_count": 54,
     "metadata": {},
     "output_type": "execute_result"
    }
   ],
   "source": [
    "inbOutb.shape"
   ]
  },
  {
   "cell_type": "code",
   "execution_count": 55,
   "metadata": {},
   "outputs": [],
   "source": [
    "# inbOutb.to_csv('inbOutb.csv')"
   ]
  },
  {
   "cell_type": "code",
   "execution_count": 56,
   "metadata": {},
   "outputs": [],
   "source": [
    "from sklearn.cluster import KMeans\n",
    "from sklearn.feature_extraction.text import TfidfVectorizer\n",
    "from sklearn.decomposition import PCA"
   ]
  },
  {
   "cell_type": "code",
   "execution_count": 57,
   "metadata": {},
   "outputs": [],
   "source": [
    "inbOutb['text_x_lemmatized']=[\" \".join(review) for review in inbOutb['text_x_lemmatized'].values]"
   ]
  },
  {
   "cell_type": "markdown",
   "metadata": {},
   "source": [
    "### 4.Feature Extraction & Model building"
   ]
  },
  {
   "cell_type": "code",
   "execution_count": 58,
   "metadata": {},
   "outputs": [
    {
     "name": "stdout",
     "output_type": "stream",
     "text": [
      "Wall time: 23 s\n"
     ]
    }
   ],
   "source": [
    "%%time\n",
    "vec = TfidfVectorizer()\n",
    "vec.fit(inbOutb.text_x_lemmatized.values)\n",
    "features = vec.transform(inbOutb.text_x_lemmatized.values)"
   ]
  },
  {
   "cell_type": "markdown",
   "metadata": {},
   "source": [
    "### KMeans Clustering"
   ]
  },
  {
   "cell_type": "code",
   "execution_count": 59,
   "metadata": {},
   "outputs": [
    {
     "name": "stdout",
     "output_type": "stream",
     "text": [
      "Wall time: 4min 18s\n"
     ]
    }
   ],
   "source": [
    "%%time\n",
    "true_k = 7\n",
    "model = KMeans(n_clusters=true_k, init='k-means++', n_jobs=2, max_iter=10, n_init=1)\n",
    "model.fit(features)"
   ]
  },
  {
   "cell_type": "code",
   "execution_count": 60,
   "metadata": {},
   "outputs": [
    {
     "name": "stdout",
     "output_type": "stream",
     "text": [
      "Top terms per cluster:\n",
      "Cluster 0:\n",
      " service\n",
      " flight\n",
      " get\n",
      " customer\n",
      " one\n",
      " account\n",
      " thanks\n",
      " im\n",
      " day\n",
      " like\n",
      "Cluster 1:\n",
      " driver\n",
      " ubersupport\n",
      " uber\n",
      " ride\n",
      " charged\n",
      " trip\n",
      " lyft\n",
      " get\n",
      " car\n",
      " app\n",
      "Cluster 2:\n",
      " time\n",
      " every\n",
      " get\n",
      " service\n",
      " first\n",
      " flight\n",
      " customer\n",
      " day\n",
      " last\n",
      " hour\n",
      "Cluster 3:\n",
      " back\n",
      " train\n",
      " get\n",
      " swhelp\n",
      " money\n",
      " service\n",
      " please\n",
      " london\n",
      " cancelled\n",
      " call\n",
      "Cluster 4:\n",
      " phone\n",
      " update\n",
      " iphone\n",
      " io\n",
      " fix\n",
      " new\n",
      " bery\n",
      " since\n",
      " updated\n",
      " app\n",
      "Cluster 5:\n",
      " order\n",
      " delivery\n",
      " day\n",
      " delivered\n",
      " package\n",
      " prime\n",
      " amazon\n",
      " today\n",
      " ordered\n",
      " still\n",
      "Cluster 6:\n",
      " help\n",
      " please\n",
      " need\n",
      " dm\n",
      " account\n",
      " hi\n",
      " get\n",
      " check\n",
      " cant\n",
      " email\n",
      "Wall time: 4.83 s\n"
     ]
    }
   ],
   "source": [
    "%%time\n",
    "print(\"Top terms per cluster:\")\n",
    "order_centroids = model.cluster_centers_.argsort()[:, ::-1]\n",
    "terms = vec.get_feature_names()\n",
    "for i in range(true_k):\n",
    "    print(\"Cluster %d:\" % i),\n",
    "    for ind in order_centroids[i, :10]:\n",
    "        print(' %s' % terms[ind]),\n",
    "    print"
   ]
  },
  {
   "cell_type": "markdown",
   "metadata": {},
   "source": [
    "* Cluster 0 : This is baout flight and services and complients. This may be of any airways.\n",
    "* Cluster 4 : This is about iPhone reviews.\n",
    "\n",
    "With the increase number of cluster we can get more precise clustering."
   ]
  },
  {
   "cell_type": "code",
   "execution_count": null,
   "metadata": {},
   "outputs": [],
   "source": []
  },
  {
   "cell_type": "markdown",
   "metadata": {},
   "source": [
    "#### Evaluation"
   ]
  },
  {
   "cell_type": "markdown",
   "metadata": {},
   "source": [
    "* Evaluation for unsupervised learning algorithms is a bit difficult and requires human judgement.\n",
    "* If we don’t have labels for your dataset, then you can still evaluate your clustering model with some metrics. One of them is Silhouette Coefficient.\n",
    "* The best value is 1 and the worst value is -1. Values near 0 indicate overlapping clusters. Negative values generally indicate that a sample has been assigned to the wrong cluster, as a different cluster is more similar."
   ]
  },
  {
   "cell_type": "code",
   "execution_count": null,
   "metadata": {},
   "outputs": [],
   "source": [
    "from sklearn.metrics import silhouette_score\n",
    "silhouette_score(features, labels=model.predict(features))"
   ]
  },
  {
   "cell_type": "markdown",
   "metadata": {},
   "source": [
    "* I got Model accuracy score of 0.65%. This can be further increased by increase number of clusters. \n",
    "* Model predictions take lot of time. This can be reduced by redcuing number of features."
   ]
  },
  {
   "cell_type": "code",
   "execution_count": null,
   "metadata": {},
   "outputs": [],
   "source": []
  }
 ],
 "metadata": {
  "kernelspec": {
   "display_name": "Python 3",
   "language": "python",
   "name": "python3"
  },
  "language_info": {
   "codemirror_mode": {
    "name": "ipython",
    "version": 3
   },
   "file_extension": ".py",
   "mimetype": "text/x-python",
   "name": "python",
   "nbconvert_exporter": "python",
   "pygments_lexer": "ipython3",
   "version": "3.6.5"
  }
 },
 "nbformat": 4,
 "nbformat_minor": 2
}
